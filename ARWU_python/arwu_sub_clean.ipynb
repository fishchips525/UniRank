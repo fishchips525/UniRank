{
 "cells": [
  {
   "source": [
    "## Scrapy ARWU Subject List"
   ],
   "cell_type": "markdown",
   "metadata": {}
  },
  {
   "cell_type": "code",
   "execution_count": 15,
   "metadata": {},
   "outputs": [],
   "source": [
    "import requests\n",
    "from bs4 import BeautifulSoup\n",
    "from pandas.core.frame import DataFrame\n",
    "import pandas as pd\n",
    "import re"
   ]
  },
  {
   "cell_type": "code",
   "execution_count": 16,
   "metadata": {},
   "outputs": [],
   "source": [
    "# Subject Page of 2020\n",
    "url = 'http://www.shanghairanking.com/Shanghairanking-Subject-Rankings/index.html'\n",
    "\n",
    "# head request\n",
    "headers = {\n",
    "    'user-agent': 'Mozilla/5.0 (Windows NT 10.0; Win64; x64) AppleWebKit/537.36 (KHTML, like Gecko) Chrome/65.0.3325.146 Safari/537.36'\n",
    "}\n",
    "\n",
    "rank = []\n",
    "res = requests.get(url, headers=headers)\n",
    "soup = BeautifulSoup(res.text, 'html.parser')\n",
    "result = re.findall('<a.*?href=\"(.*?)\">(.*?)</a>', str(soup.find_all(\"a\")))"
   ]
  },
  {
   "cell_type": "code",
   "execution_count": 17,
   "metadata": {},
   "outputs": [
    {
     "output_type": "stream",
     "name": "stdout",
     "text": [
      "[('http://www.facebook.com/academicrankingofworlduniversities', ''), ('http://www.twitter.com/shanghairanking', ''), ('mailto:contact@shanghairanking.com', ''), ('http://www.zuihaodaxue.com', 'ä¸\\xadæ\\x96\\x87ç\\x89\\x88'), ('../index.html', '<img alt=\"Academic Ranking of World Universities\" height=\"103\" src=\"../image/ARWU.png\" width=\"306\"/>'), ('../index.html', 'Home'), ('#', 'About'), ('../aboutus.html', 'About Us'), ('../aboutarwu.html', 'About ARWU'), ('../aboutiab.html', \"Int'l Advisory Board\"), ('#', 'Rankings'), ('#', 'ARWU'), ('../ARWU2020.html', '2020'), ('../ARWU2019.html', '2019'), ('../ARWU2018.html', '2018'), ('../ARWU2017.html', '2017'), ('../ARWU2016.html', '2016'), ('../ARWU2015.html', '2015'), ('../ARWU2014.html', '2014'), ('../ARWU2013.html', '2013'), ('../ARWU2012.html', '2012'), ('../ARWU2011.html', '2011'), ('../ARWU2010.html', '2010'), ('../ARWU2009.html', '2009'), ('../ARWU2008.html', '2008'), ('../ARWU2007.html', '2007'), ('../ARWU2006.html', '2006'), ('../ARWU2005.html', '2005'), ('../ARWU2004.html', '2004'), ('../ARWU2003.html', '2003'), ('#', 'ARWU-FIELD'), ('#', 'SCI'), ('../FieldSCI2016.html', '2016'), ('../FieldSCI2015.html', '2015'), ('../FieldSCI2014.html', '2014'), ('../FieldSCI2013.html', '2013'), ('../FieldSCI2012.html', '2012'), ('../FieldSCI2011.html', '2011'), ('../FieldSCI2010.html', '2010'), ('../FieldSCI2009.html', '2009'), ('../FieldSCI2008.html', '2008'), ('../FieldSCI2007.html', '2007'), ('#', 'ENG'), ('../FieldENG2016.html', '2016'), ('../FieldENG2015.html', '2015'), ('../FieldENG2014.html', '2014'), ('../FieldENG2013.html', '2013'), ('../FieldENG2012.html', '2012'), ('../FieldENG2011.html', '2011'), ('../FieldENG2010.html', '2010'), ('../FieldENG2009.html', '2009'), ('../FieldENG2008.html', '2008'), ('../FieldENG2007.html', '2007'), ('#', 'LIFE'), ('../FieldLIFE2016.html', '2016'), ('../FieldLIFE2015.html', '2015'), ('../FieldLIFE2014.html', '2014'), ('../FieldLIFE2013.html', '2013'), ('../FieldLIFE2012.html', '2012'), ('../FieldLIFE2011.html', '2011'), ('../FieldLIFE2010.html', '2010'), ('../FieldLIFE2009.html', '2009'), ('../FieldLIFE2008.html', '2008'), ('../FieldLIFE2007.html', '2007'), ('#', 'MED'), ('../FieldMED2016.html', '2016'), ('../FieldMED2015.html', '2015'), ('../FieldMED2014.html', '2014'), ('../FieldMED2013.html', '2013'), ('../FieldMED2012.html', '2012'), ('../FieldMED2011.html', '2011'), ('../FieldMED2010.html', '2010'), ('../FieldMED2009.html', '2009'), ('../FieldMED2008.html', '2008'), ('../FieldMED2007.html', '2007'), ('#', 'SOC'), ('../FieldSOC2016.html', '2016'), ('../FieldSOC2015.html', '2015'), ('../FieldSOC2014.html', '2014'), ('../FieldSOC2013.html', '2013'), ('../FieldSOC2012.html', '2012'), ('../FieldSOC2011.html', '2011'), ('../FieldSOC2010.html', '2010'), ('../FieldSOC2009.html', '2009'), ('../FieldSOC2008.html', '2008'), ('../FieldSOC2007.html', '2007'), ('../Shanghairanking-Subject-Rankings/index.html', 'Subject Ranking'), ('../Shanghairanking-Subject-Rankings/index.html', '2020'), ('../Shanghairanking-Subject-Rankings-2019/index.html', '2019'), ('../Shanghairanking-Subject-Rankings-2018/index.html', '2018'), ('../Shanghairanking-Subject-Rankings-2017/index.html', '2017'), ('#', 'Special Focus Institution Ranking'), ('#', 'Sport Science Schools and Departments'), ('../Special-Focus-Institution-Ranking/Sport-Science-Schools-and-Departments-2020.html', '2020'), ('../Special-Focus-Institution-Ranking/Sport-Science-Schools-and-Departments-2018.html', '2018'), ('../Special-Focus-Institution-Ranking/Sport-Science-Schools-and-Departments-2017.html', '2017'), ('../Special-Focus-Institution-Ranking/Sport-Science-Schools-and-Departments-2016.html', '2016'), ('#', 'Survey'), ('../subject-survey/survey-results-2020.html', 'Results'), ('../subject-survey/survey-methodology-2020.html', 'Methodology'), ('http://www.shanghairanking.com/shanghairanking_academic_excellence_survey/static/participate.html', 'Participate in this survey'), ('../Search.html', 'Universities'), ('http://www.shanghairanking.com/grup/index.html', 'GRUP'), ('#', 'Initiative'), ('#', 'Chinese Universities Rankings'), ('#', 'Overall Ranking'), ('http://www.shanghairanking.com/Chinese_Universities_Rankings/Overall-Ranking-2019.html', '2019'), ('http://www.shanghairanking.com/Chinese_Universities_Rankings/Overall-Ranking-2018.html', '2018'), ('http://www.shanghairanking.com/Chinese_Universities_Rankings/Overall-Ranking-2017.html', '2017'), ('http://www.shanghairanking.com/Chinese_Universities_Rankings/Overall-Ranking-2015.html', '2015'), ('#', 'Teaching and Learning Ranking'), ('http://www.shanghairanking.com/Chinese_Universities_Rankings/Teaching-and-Learning-Ranking-2015.html', '2015'), ('#', 'Research Ranking'), ('http://www.shanghairanking.com/Chinese_Universities_Rankings/Research-Ranking-2015.html', '2015'), ('#', 'Social Service Ranking'), ('http://www.shanghairanking.com/Chinese_Universities_Rankings/Social-Service-Ranking-2015.html', '2015'), ('#', 'Chinese Medical Universities Ranking'), ('http://www.shanghairanking.com/Chinese_Universities_Rankings/Overall-Medical-Ranking-2019.html', '2019'), ('#', 'Greater China Ranking'), ('../Greater_China_Ranking/Greater_China_Ranking2019.html', '2019'), ('../Greater_China_Ranking/Greater_China_Ranking2018.html', '2018'), ('../Greater_China_Ranking/Greater_China_Ranking2017.html', '2017'), ('../Greater_China_Ranking/Greater_China_Ranking2016.html', '2016'), ('../Greater_China_Ranking/Greater_China_Ranking2015.html', '2015'), ('../Greater_China_Ranking/Greater_China_Ranking2014.html', '2014'), ('../Greater_China_Ranking/Greater_China_Ranking2013.html', '2013'), ('../Greater_China_Ranking/Greater_China_Ranking2012.html', '2012'), ('../Greater_China_Ranking/Greater_China_Ranking2011.html', '2011'), ('#', 'Macedonian Ranking'), ('../Macedonian_HEIs_Ranking/Macedonian-HEIs-Ranking-2015-2016.html', '2015-2016'), ('../Macedonian_HEIs_Ranking/Macedonian-HEIs-Ranking-2013-2014.html', '2013-2014'), ('../Macedonian_HEIs_Ranking/Macedonian-HEIs-Ranking-2011-2012.html', '2011-2012'), ('#', 'ARWU Related'), ('#', 'Excluding Award Factor'), ('http://www.shanghairanking.com/Alternative_Ranking_Excluding_Award_Factor/Excluding_Award_Factor2014.html', '2014'), ('http://www.shanghairanking.com/Alternative_Ranking_Excluding_Award_Factor/Excluding_Award_Factor2015.html', '2015'), ('http://www.shanghairanking.com/wcu/index.html', 'Conference'), ('http://www.shanghairanking.com/advertisewithus.html', 'Advertise with Us'), ('http://www.shanghairanking.com/newsletter-sign-up/index.html', 'Sign up to our newsletter'), ('http://www.shanghairanking.com/media-kit/index.html', 'Download our media kit'), ('../index.html', 'Home&gt;&gt;'), ('#', 'Global Ranking of Academic Subjects 2020'), ('mathematics.html', 'Mathematics'), ('physics.html', 'Physics'), ('chemistry.html', 'Chemistry'), ('earth-sciences.html', 'Earth Sciences'), ('geography.html', 'Geography'), ('ecology.html', 'Ecology'), ('oceanography.html', 'Oceanography'), ('atmospheric-science.html', 'Atmospheric Science'), ('mechanical-engineering.html', 'Mechanical Engineering'), ('electrical-electronic-engineering.html', 'Electrical &amp; Electronic Engineering'), ('automation-control.html', 'Automation &amp; Control'), ('telecommunication-engineering.html', 'Telecommunication Engineering'), ('instruments-science-technology.html', 'Instruments Science &amp; Technology'), ('biomedical-engineering.html', 'Biomedical Engineering'), ('computer-science-engineering.html', 'Computer Science &amp; Engineering'), ('civil-engineering.html', 'Civil Engineering'), ('chemical-engineering.html', 'Chemical Engineering'), ('materials-science-engineering.html', 'Materials Science &amp; Engineering'), ('nanoscience-nanotechnology.html', 'Nanoscience &amp; Nanotechnology'), ('energy-science-engineering.html', 'Energy Science &amp; Engineering'), ('environmental-science-engineering.html', 'Environmental Science &amp; Engineering'), ('water-resources.html', 'Water Resources'), ('food-science-technology.html', 'Food Science &amp; Technology'), ('biotechnology.html', 'Biotechnology'), ('aerospace-engineering.html', 'Aerospace Engineering'), ('marine-ocean-engineering.html', 'Marine/Ocean Engineering'), ('transportation-science-technology.html', 'Transportation Science &amp; Technology'), ('remote-sensing.html', 'Remote Sensing'), ('mining-mineral-engineering.html', 'Mining &amp; Mineral Engineering'), ('metallurgical-engineering.html', 'Metallurgical Engineering'), ('biological-sciences.html', 'Biological Sciences'), ('human-biological-sciences.html', 'Human Biological Sciences'), ('agricultural-sciences.html', 'Agricultural Sciences'), ('veterinary-sciences.html', 'Veterinary Sciences'), ('clinical-medicine.html', 'Clinical Medicine'), ('public-health.html', 'Public Health'), ('dentistry-oral-sciences.html', 'Dentistry &amp; Oral Sciences'), ('nursing.html', 'Nursing'), ('medical-technology.html', 'Medical Technology'), ('pharmacy-pharmaceutical-sciences.html', 'Pharmacy &amp; Pharmaceutical Sciences'), ('economics.html', 'Economics'), ('statistics.html', 'Statistics'), ('law.html', 'Law'), ('political-sciences.html', 'Political Sciences'), ('sociology.html', 'Sociology'), ('education.html', 'Education'), ('communication.html', 'Communication'), ('psychology.html', 'Psychology'), ('business-administration.html', 'Business Administration'), ('finance.html', 'Finance'), ('management.html', 'Management'), ('public-administration.html', 'Public Administration'), ('hospitality-tourism-management.html', 'Hospitality &amp; Tourism Management'), ('library-information-science.html', 'Library &amp; Information Science'), ('../ARWU2020.html', 'World Top 1000 Universities'), ('../World-University-Rankings-2020/Australia.html', 'Australia'), ('../World-University-Rankings-2020/Austria.html', 'Austria'), ('../World-University-Rankings-2020/Belgium.html', 'Belgium'), ('../World-University-Rankings-2020/Brazil.html', 'Brazil'), ('../World-University-Rankings-2020/Canada.html', 'Canada'), ('../World-University-Rankings-2020/Chile.html', 'Chile'), ('../World-University-Rankings-2020/China.html', 'China'), ('../World-University-Rankings-2020/Denmark.html', 'Denmark'), ('../World-University-Rankings-2020/Finland.html', 'Finland'), ('../World-University-Rankings-2020/France.html', 'France'), ('../World-University-Rankings-2020/Germany.html', 'Germany'), ('../World-University-Rankings-2020/Greece.html', 'Greece'), ('../World-University-Rankings-2020/Iran.html', 'Iran'), ('../World-University-Rankings-2020/China-hk.html', 'Hong Kong'), ('../World-University-Rankings-2020/Ireland.html', 'Ireland'), ('../World-University-Rankings-2020/Israel.html', 'Israel'), ('../World-University-Rankings-2020/Italy.html', 'Italy'), ('../World-University-Rankings-2020/Japan.html', 'Japan'), ('../World-University-Rankings-2020/Malaysia.html', 'Malaysia'), ('../World-University-Rankings-2020/Netherlands.html', 'Netherlands'), ('../World-University-Rankings-2020/New-Zealand.html', 'New Zealand'), ('../World-University-Rankings-2020/Norway.html', 'Norway'), ('../World-University-Rankings-2020/Poland.html', 'Poland'), ('../World-University-Rankings-2020/Portugal.html', 'Portugal'), ('../World-University-Rankings-2020/Russia.html', 'Russia'), ('../World-University-Rankings-2020/Saudi-Arabia.html', 'Saudi Arabia'), ('../World-University-Rankings-2020/Singapore.html', 'Singapore'), ('../World-University-Rankings-2020/Spain.html', 'Spain'), ('../World-University-Rankings-2020/South-Africa.html', 'South Africa'), ('../World-University-Rankings-2020/South-Korea.html', 'South Korea'), ('../World-University-Rankings-2020/Sweden.html', 'Sweden'), ('../World-University-Rankings-2020/Switzerland.html', 'Switzerland'), ('../World-University-Rankings-2020/China-tw.html', 'Taiwan'), ('../World-University-Rankings-2020/UK.html', 'UK'), ('../World-University-Rankings-2020/USA.html', 'USA'), ('../FieldSCI2016.html', 'Natural Sciences and Mathematics'), ('../FieldENG2016.html', 'Engineering / Technology and Computer Sciences'), ('../FieldLIFE2016.html', 'Life and Agriculture Sciences'), ('../FieldMED2016.html', 'Clinical Medicine and Pharmacy'), ('../FieldSOC2016.html', 'Social Sciences'), ('../Shanghairanking-Subject-Rankings/mathematics.html', 'Mathematics'), ('../Shanghairanking-Subject-Rankings/physics.html', 'Physics'), ('../Shanghairanking-Subject-Rankings/chemistry.html', 'Chemistry'), ('../Shanghairanking-Subject-Rankings/economics.html', 'Economics'), ('../Shanghairanking-Subject-Rankings/computer-science-engineering.html', 'Computer Science &amp; Engineering'), ('../Shanghairanking-Subject-Rankings/index.html', 'More&gt;&gt;'), ('../contactus.html', 'Contact Us'), ('../sitemap.html', 'SiteMap'), ('../privacystatement.html', 'Privacy Statement')]\n"
     ]
    }
   ],
   "source": [
    "print (result)"
   ]
  },
  {
   "cell_type": "code",
   "execution_count": 18,
   "metadata": {},
   "outputs": [],
   "source": [
    "subject_list =  [('mathematics.html', 'Mathematics'), ('physics.html', 'Physics'), ('chemistry.html', 'Chemistry'), ('earth-sciences.html', 'Earth Sciences'), ('geography.html', 'Geography'), ('ecology.html', 'Ecology'), ('oceanography.html', 'Oceanography'), ('atmospheric-science.html', 'Atmospheric Science'), ('mechanical-engineering.html', 'Mechanical Engineering'), ('electrical-electronic-engineering.html', 'Electrical &amp; Electronic Engineering'), ('automation-control.html', 'Automation &amp; Control'), ('telecommunication-engineering.html', 'Telecommunication Engineering'), ('instruments-science-technology.html', 'Instruments Science &amp; Technology'), ('biomedical-engineering.html', 'Biomedical Engineering'), ('computer-science-engineering.html', 'Computer Science &amp; Engineering'), ('civil-engineering.html', 'Civil Engineering'), ('chemical-engineering.html', 'Chemical Engineering'), ('materials-science-engineering.html', 'Materials Science &amp; Engineering'), ('nanoscience-nanotechnology.html', 'Nanoscience &amp; Nanotechnology'), ('energy-science-engineering.html', 'Energy Science &amp; Engineering'), ('environmental-science-engineering.html', 'Environmental Science &amp; Engineering'), ('water-resources.html', 'Water Resources'), ('food-science-technology.html', 'Food Science &amp; Technology'), ('biotechnology.html', 'Biotechnology'), ('aerospace-engineering.html', 'Aerospace Engineering'), ('marine-ocean-engineering.html', 'Marine/Ocean Engineering'), ('transportation-science-technology.html', 'Transportation Science &amp; Technology'), ('remote-sensing.html', 'Remote Sensing'), ('mining-mineral-engineering.html', 'Mining &amp; Mineral Engineering'), ('metallurgical-engineering.html', 'Metallurgical Engineering'), ('biological-sciences.html', 'Biological Sciences'), ('human-biological-sciences.html', 'Human Biological Sciences'), ('agricultural-sciences.html', 'Agricultural Sciences'), ('veterinary-sciences.html', 'Veterinary Sciences'), ('clinical-medicine.html', 'Clinical Medicine'), ('public-health.html', 'Public Health'), ('dentistry-oral-sciences.html', 'Dentistry &amp; Oral Sciences'), ('nursing.html', 'Nursing'), ('medical-technology.html', 'Medical Technology'), ('pharmacy-pharmaceutical-sciences.html', 'Pharmacy &amp; Pharmaceutical Sciences'), ('economics.html', 'Economics'), ('statistics.html', 'Statistics'), ('law.html', 'Law'), ('political-sciences.html', 'Political Sciences'), ('sociology.html', 'Sociology'), ('education.html', 'Education'), ('communication.html', 'Communication'), ('psychology.html', 'Psychology'), ('business-administration.html', 'Business Administration'), ('finance.html', 'Finance'), ('management.html', 'Management'), ('public-administration.html', 'Public Administration'), ('hospitality-tourism-management.html', 'Hospitality &amp; Tourism Management'), ('library-information-science.html', 'Library &amp; Information Science')]\n",
    "\n",
    "# subject_list =  [('mathematics.html', 'Mathematics')]"
   ]
  },
  {
   "source": [
    "## Scrapy Subject Page"
   ],
   "cell_type": "markdown",
   "metadata": {}
  },
  {
   "cell_type": "code",
   "execution_count": 19,
   "metadata": {},
   "outputs": [],
   "source": [
    "def rank_subject(subject_html, subject):\n",
    "    print ('$$$$$$ URL $$$$$$')\n",
    "    url = 'http://www.shanghairanking.com/Shanghairanking-Subject-Rankings/' + subject_html\n",
    "    print (url)\n",
    "    # print(url)\n",
    "    res = requests.get(url, headers=headers)\n",
    "    soup = BeautifulSoup(res.text, 'html.parser')\n",
    "    tables = soup.findAll('table')\n",
    "    tab = tables[0]\n",
    "    # print (tab)\n",
    "\n",
    "    uni = []\n",
    "    uni_rank = []\n",
    "    uni_name = []\n",
    "    uni_country = []\n",
    "    uni_NationalRank = []\n",
    "    uni_totalscore = []\n",
    "    uni_scoreQ1 = []\n",
    "    uni_scoreCNCI = []\n",
    "    uni_scoreIC = []\n",
    "    uni_scoreTOP = []\n",
    "    uni_scoreAward = []\n",
    "\n",
    "    for tr in tab.findAll('tr'):\n",
    "        for td in tr.findAll('td'):\n",
    "            uni.append(td.getText())\n",
    "\n",
    "    # print(uni[0:11])\n",
    "\n",
    "\n",
    "    for tr in tab.findAll('tr'):\n",
    "        for td in tr.findAll('img'):\n",
    "            # print (td)\n",
    "            uni_country.append(td.get('src').replace('image/flag/../', '').replace('.png', ''))   \n",
    "        \n",
    "\n",
    "    for i in range(len(uni)):\n",
    "        if (i%10 == 0):\n",
    "            uni_rank.append(uni[i])\n",
    "        if (i%10 == 1):\n",
    "            uni_name.append(uni[i])\n",
    "        if (i%10 == 3):\n",
    "            uni_NationalRank.append(uni[i])\n",
    "        if (i%10 == 4):\n",
    "            uni_totalscore.append(uni[i])\n",
    "        if (i%10 == 5):\n",
    "            uni_scoreQ1.append(uni[i])\n",
    "        if (i%10 == 6):\n",
    "            uni_scoreCNCI.append(uni[i])\n",
    "        if (i%10== 7):\n",
    "            uni_scoreIC.append(uni[i])\n",
    "        if (i%10 == 8):\n",
    "            uni_scoreTOP.append(uni[i])\n",
    "        if (i%10 == 9):\n",
    "            uni_scoreAward.append(uni[i])\n",
    "\n",
    "    print(len(uni_rank)) \n",
    "    print(len(uni_name))\n",
    "    print(len(uni_country))\n",
    "    print(len(uni_NationalRank))\n",
    "    print(len(uni_totalscore))\n",
    "    print(len(uni_scoreQ1))\n",
    "    print(len(uni_scoreCNCI))\n",
    "    print(len(uni_scoreIC))\n",
    "    print(len(uni_scoreTOP))\n",
    "    print(len(uni_scoreAward))\n",
    "\n",
    "    Uni_Subject={'World Rank': uni_rank, 'University Name': uni_name,'Country':uni_country, 'National Rank': uni_NationalRank, \n",
    "    'Total Score': uni_totalscore, \n",
    "    'Score Q1': uni_scoreQ1, 'Score CNCI': uni_scoreCNCI, 'Score IC': uni_scoreIC, \n",
    "    'Score TOP':uni_scoreTOP, 'Score Award':uni_scoreAward}\n",
    "\n",
    "    data=DataFrame(Uni_Subject)\n",
    "    data['Subject'] = subject\n",
    "    data['Year'] = '2020'\n",
    "    data['Ranking Instituion']\n",
    "    rank.append(data)"
   ]
  },
  {
   "cell_type": "code",
   "execution_count": 20,
   "metadata": {
    "tags": [
     "outputPrepend"
    ]
   },
   "outputs": [
    {
     "output_type": "stream",
     "name": "stdout",
     "text": [
      "tyle=\"display: none;margin:0;text-align:center;\">0</td></tr><tr class=\"bgfd\"><td>76-100</td><td class=\"left\"><a href=\"../World-University-Rankings/Dalian-University-of-Technology.html\" target=\"_blank\">Dalian University of Technology</a></td><td><img src=\"../image/flag/China.png\" title=\"China\"/></td><td>9-11</td><td></td><td>46.3</td><td id=\"5\" style=\"display: none;margin:0;text-align:center;\">73.2</td><td id=\"6\" style=\"display: none;margin:0;text-align:center;\">76.7</td><td id=\"7\" style=\"display: none;margin:0;text-align:center;\">13.5</td><td id=\"8\" style=\"display: none;margin:0;text-align:center;\">0</td></tr><tr class=\"bgf5\"><td>76-100</td><td class=\"left\"><a href=\"../World-University-Rankings/Huazhong-University-of-Science-and-Technology.html\" target=\"_blank\">Huazhong University of Science and Technology</a></td><td><img src=\"../image/flag/China.png\" title=\"China\"/></td><td>9-11</td><td></td><td>39.1</td><td id=\"5\" style=\"display: none;margin:0;text-align:center;\">89.2</td><td id=\"6\" style=\"display: none;margin:0;text-align:center;\">72.6</td><td id=\"7\" style=\"display: none;margin:0;text-align:center;\">20.6</td><td id=\"8\" style=\"display: none;margin:0;text-align:center;\">0</td></tr><tr class=\"bgfd\"><td>76-100</td><td class=\"left\"><a href=\"../World-University-Rankings/Korea-University.html\" target=\"_blank\">Korea University</a></td><td><img src=\"../image/flag/SouthKorea.png\" title=\"South Korea\"/></td><td>3-5</td><td></td><td>37.1</td><td id=\"5\" style=\"display: none;margin:0;text-align:center;\">73.4</td><td id=\"6\" style=\"display: none;margin:0;text-align:center;\">74.5</td><td id=\"7\" style=\"display: none;margin:0;text-align:center;\">29.1</td><td id=\"8\" style=\"display: none;margin:0;text-align:center;\">0</td></tr><tr class=\"bgf5\"><td>76-100</td><td class=\"left\"><a href=\"../World-University-Rankings/Kyung-Hee-University.html\" target=\"_blank\">Kyung Hee University</a></td><td><img src=\"../image/flag/SouthKorea.png\" title=\"South Korea\"/></td><td>3-5</td><td></td><td>39.8</td><td id=\"5\" style=\"display: none;margin:0;text-align:center;\">86.5</td><td id=\"6\" style=\"display: none;margin:0;text-align:center;\">85.7</td><td id=\"7\" style=\"display: none;margin:0;text-align:center;\">19.1</td><td id=\"8\" style=\"display: none;margin:0;text-align:center;\">0</td></tr><tr class=\"bgfd\"><td>76-100</td><td class=\"left\"><a href=\"../World-University-Rankings/London-School-of-Economics-and-Political-Science.html\" target=\"_blank\">London School of Economics and Political Science</a></td><td><img src=\"../image/flag/UnitedKingdom.png\" title=\"United Kingdom\"/></td><td>5-7</td><td></td><td>37.1</td><td id=\"5\" style=\"display: none;margin:0;text-align:center;\">94.3</td><td id=\"6\" style=\"display: none;margin:0;text-align:center;\">86.0</td><td id=\"7\" style=\"display: none;margin:0;text-align:center;\">19.1</td><td id=\"8\" style=\"display: none;margin:0;text-align:center;\">0</td></tr><tr class=\"bgf5\"><td>76-100</td><td class=\"left\"><a href=\"../World-University-Rankings/National-Taiwan-University.html\" target=\"_blank\">National Taiwan University</a></td><td><img src=\"../image/flag/China-Taiwan.png\" title=\"China-Taiwan\"/></td><td>1</td><td></td><td>51.0</td><td id=\"5\" style=\"display: none;margin:0;text-align:center;\">58.4</td><td id=\"6\" style=\"display: none;margin:0;text-align:center;\">60.9</td><td id=\"7\" style=\"display: none;margin:0;text-align:center;\">23.4</td><td id=\"8\" style=\"display: none;margin:0;text-align:center;\">0</td></tr><tr class=\"bgfd\"><td>76-100</td><td class=\"left\"><a href=\"../World-University-Rankings/Peking-University.html\" target=\"_blank\">Peking University</a></td><td><img src=\"../image/flag/China.png\" title=\"China\"/></td><td>9-11</td><td></td><td>45.7</td><td id=\"5\" style=\"display: none;margin:0;text-align:center;\">71.4</td><td id=\"6\" style=\"display: none;margin:0;text-align:center;\">86.3</td><td id=\"7\" style=\"display: none;margin:0;text-align:center;\">17.4</td><td id=\"8\" style=\"display: none;margin:0;text-align:center;\">0</td></tr><tr class=\"bgf5\"><td>76-100</td><td class=\"left\"><a href=\"../World-University-Rankings/Pennsylvania-State-University---University-Park.html\" target=\"_blank\">Pennsylvania State University - University Park</a></td><td><img src=\"../image/flag/UnitedStates.png\" title=\"United States\"/></td><td>40-49</td><td></td><td>46.3</td><td id=\"5\" style=\"display: none;margin:0;text-align:center;\">65.3</td><td id=\"6\" style=\"display: none;margin:0;text-align:center;\">57.8</td><td id=\"7\" style=\"display: none;margin:0;text-align:center;\">23.4</td><td id=\"8\" style=\"display: none;margin:0;text-align:center;\">0</td></tr><tr class=\"bgfd\"><td>76-100</td><td class=\"left\"><a href=\"../World-University-Rankings/Polytechnic-University-of-Valencia.html\" target=\"_blank\">Polytechnic University of Valencia</a></td><td><img src=\"../image/flag/Spain.png\" title=\"Spain\"/></td><td>2</td><td></td><td>47.9</td><td id=\"5\" style=\"display: none;margin:0;text-align:center;\">76.4</td><td id=\"6\" style=\"display: none;margin:0;text-align:center;\">71.2</td><td id=\"7\" style=\"display: none;margin:0;text-align:center;\">11.0</td><td id=\"8\" style=\"display: none;margin:0;text-align:center;\">0</td></tr><tr class=\"bgf5\"><td>76-100</td><td class=\"left\"><a href=\"../World-University-Rankings/Sungkyunkwan-University.html\" target=\"_blank\">Sungkyunkwan University</a></td><td><img src=\"../image/flag/SouthKorea.png\" title=\"South Korea\"/></td><td>3-5</td><td></td><td>42.9</td><td id=\"5\" style=\"display: none;margin:0;text-align:center;\">66.2</td><td id=\"6\" style=\"display: none;margin:0;text-align:center;\">57.7</td><td id=\"7\" style=\"display: none;margin:0;text-align:center;\">23.4</td><td id=\"8\" style=\"display: none;margin:0;text-align:center;\">0</td></tr><tr class=\"bgfd\"><td>76-100</td><td class=\"left\"><a href=\"../World-University-Rankings/Syracuse-University.html\" target=\"_blank\">Syracuse University</a></td><td><img src=\"../image/flag/UnitedStates.png\" title=\"United States\"/></td><td>40-49</td><td></td><td>41.0</td><td id=\"5\" style=\"display: none;margin:0;text-align:center;\">63.0</td><td id=\"6\" style=\"display: none;margin:0;text-align:center;\">55.6</td><td id=\"7\" style=\"display: none;margin:0;text-align:center;\">24.6</td><td id=\"8\" style=\"display: none;margin:0;text-align:center;\">54.8</td></tr><tr class=\"bgf5\"><td>76-100</td><td class=\"left\"><a href=\"../World-University-Rankings/The-Hong-Kong-Polytechnic-University.html\" target=\"_blank\">The Hong Kong Polytechnic University</a></td><td><img src=\"../image/flag/China-HongKong.png\" title=\"China-Hong Kong\"/></td><td>3</td><td></td><td>41.0</td><td id=\"5\" style=\"display: none;margin:0;text-align:center;\">90.9</td><td id=\"6\" style=\"display: none;margin:0;text-align:center;\">84.1</td><td id=\"7\" style=\"display: none;margin:0;text-align:center;\">20.6</td><td id=\"8\" style=\"display: none;margin:0;text-align:center;\">0</td></tr><tr class=\"bgfd\"><td>76-100</td><td class=\"left\"><a href=\"../World-University-Rankings/The-University-of-Georgia.html\" target=\"_blank\">The University of Georgia</a></td><td><img src=\"../image/flag/UnitedStates.png\" title=\"United States\"/></td><td>40-49</td><td></td><td>42.9</td><td id=\"5\" style=\"display: none;margin:0;text-align:center;\">78.3</td><td id=\"6\" style=\"display: none;margin:0;text-align:center;\">46.5</td><td id=\"7\" style=\"display: none;margin:0;text-align:center;\">20.6</td><td id=\"8\" style=\"display: none;margin:0;text-align:center;\">0</td></tr><tr class=\"bgf5\"><td>76-100</td><td class=\"left\"><a href=\"../World-University-Rankings/University-of-Cambridge.html\" target=\"_blank\">University of Cambridge</a></td><td><img src=\"../image/flag/UnitedKingdom.png\" title=\"United Kingdom\"/></td><td>5-7</td><td></td><td>35.7</td><td id=\"5\" style=\"display: none;margin:0;text-align:center;\">83.2</td><td id=\"6\" style=\"display: none;margin:0;text-align:center;\">72.7</td><td id=\"7\" style=\"display: none;margin:0;text-align:center;\">19.1</td><td id=\"8\" style=\"display: none;margin:0;text-align:center;\">54.8</td></tr><tr class=\"bgfd\"><td>76-100</td><td class=\"left\"><a href=\"../World-University-Rankings/University-of-Connecticut.html\" target=\"_blank\">University of Connecticut</a></td><td><img src=\"../image/flag/UnitedStates.png\" title=\"United States\"/></td><td>40-49</td><td></td><td>43.4</td><td id=\"5\" style=\"display: none;margin:0;text-align:center;\">66.2</td><td id=\"6\" style=\"display: none;margin:0;text-align:center;\">62.5</td><td id=\"7\" style=\"display: none;margin:0;text-align:center;\">30.2</td><td id=\"8\" style=\"display: none;margin:0;text-align:center;\">0</td></tr><tr class=\"bgf5\"><td>76-100</td><td class=\"left\"><a href=\"../World-University-Rankings/University-of-Illinois-at-Urbana-Champaign.html\" target=\"_blank\">University of Illinois at Urbana-Champaign</a></td><td><img src=\"../image/flag/UnitedStates.png\" title=\"United States\"/></td><td>40-49</td><td></td><td>47.9</td><td id=\"5\" style=\"display: none;margin:0;text-align:center;\">52.7</td><td id=\"6\" style=\"display: none;margin:0;text-align:center;\">48.8</td><td id=\"7\" style=\"display: none;margin:0;text-align:center;\">22.0</td><td id=\"8\" style=\"display: none;margin:0;text-align:center;\">31.6</td></tr><tr class=\"bgfd\"><td>76-100</td><td class=\"left\"><a href=\"../World-University-Rankings/University-of-Malaya.html\" target=\"_blank\">University of Malaya</a></td><td><img src=\"../image/flag/Malaysia.png\" title=\"Malaysia\"/></td><td>1</td><td></td><td>45.7</td><td id=\"5\" style=\"display: none;margin:0;text-align:center;\">72.0</td><td id=\"6\" style=\"display: none;margin:0;text-align:center;\">71.6</td><td id=\"7\" style=\"display: none;margin:0;text-align:center;\">15.6</td><td id=\"8\" style=\"display: none;margin:0;text-align:center;\">0</td></tr><tr class=\"bgf5\"><td>76-100</td><td class=\"left\"><a href=\"../World-University-Rankings/University-of-Oklahoma---Norman.html\" target=\"_blank\">University of Oklahoma - Norman</a></td><td><img src=\"../image/flag/UnitedStates.png\" title=\"United States\"/></td><td>40-49</td><td></td><td>42.3</td><td id=\"5\" style=\"display: none;margin:0;text-align:center;\">65.2</td><td id=\"6\" style=\"display: none;margin:0;text-align:center;\">57.7</td><td id=\"7\" style=\"display: none;margin:0;text-align:center;\">25.8</td><td id=\"8\" style=\"display: none;margin:0;text-align:center;\">0</td></tr><tr class=\"bgfd\"><td>76-100</td><td class=\"left\"><a href=\"../World-University-Rankings/University-of-Oxford.html\" target=\"_blank\">University of Oxford</a></td><td><img src=\"../image/flag/UnitedKingdom.png\" title=\"United Kingdom\"/></td><td>5-7</td><td></td><td>43.4</td><td id=\"5\" style=\"display: none;margin:0;text-align:center;\">65.1</td><td id=\"6\" style=\"display: none;margin:0;text-align:center;\">70.5</td><td id=\"7\" style=\"display: none;margin:0;text-align:center;\">24.6</td><td id=\"8\" style=\"display: none;margin:0;text-align:center;\">0</td></tr><tr class=\"bgf5\"><td>76-100</td><td class=\"left\"><a href=\"../World-University-Rankings/University-of-Quebec-Montreal.html\" target=\"_blank\">University of Quebec Montreal</a></td><td><img src=\"../image/flag/Canada.png\" title=\"Canada\"/></td><td>4-5</td><td></td><td>41.0</td><td id=\"5\" style=\"display: none;margin:0;text-align:center;\">99.5</td><td id=\"6\" style=\"display: none;margin:0;text-align:center;\">86.2</td><td id=\"7\" style=\"display: none;margin:0;text-align:center;\">7.8</td><td id=\"8\" style=\"display: none;margin:0;text-align:center;\">0</td></tr><tr class=\"bgfd\"><td>76-100</td><td class=\"left\"><a href=\"../World-University-Rankings/University-of-Southern-California.html\" target=\"_blank\">University of Southern California</a></td><td><img src=\"../image/flag/UnitedStates.png\" title=\"United States\"/></td><td>40-49</td><td></td><td>42.3</td><td id=\"5\" style=\"display: none;margin:0;text-align:center;\">84.2</td><td id=\"6\" style=\"display: none;margin:0;text-align:center;\">47.5</td><td id=\"7\" style=\"display: none;margin:0;text-align:center;\">25.8</td><td id=\"8\" style=\"display: none;margin:0;text-align:center;\">0</td></tr><tr class=\"bgf5\"><td>76-100</td><td class=\"left\"><a href=\"../World-University-Rankings/University-of-Toronto.html\" target=\"_blank\">University of Toronto</a></td><td><img src=\"../image/flag/Canada.png\" title=\"Canada\"/></td><td>4-5</td><td></td><td>48.4</td><td id=\"5\" style=\"display: none;margin:0;text-align:center;\">56.1</td><td id=\"6\" style=\"display: none;margin:0;text-align:center;\">61.2</td><td id=\"7\" style=\"display: none;margin:0;text-align:center;\">28.1</td><td id=\"8\" style=\"display: none;margin:0;text-align:center;\">0</td></tr><tr class=\"bgfd\"><td>76-100</td><td class=\"left\"><a href=\"../World-University-Rankings/University-of-Wisconsin-Milwaukee.html\" target=\"_blank\">University of Wisconsin-Milwaukee</a></td><td><img src=\"../image/flag/UnitedStates.png\" title=\"United States\"/></td><td>40-49</td><td></td><td>44.6</td><td id=\"5\" style=\"display: none;margin:0;text-align:center;\">68.6</td><td id=\"6\" style=\"display: none;margin:0;text-align:center;\">58.0</td><td id=\"7\" style=\"display: none;margin:0;text-align:center;\">28.1</td><td id=\"8\" style=\"display: none;margin:0;text-align:center;\">0</td></tr><tr class=\"bgf5\"><td>76-100</td><td class=\"left\"><a href=\"../World-University-Rankings/Virginia-Commonwealth-University.html\" target=\"_blank\">Virginia Commonwealth University</a></td><td><img src=\"../image/flag/UnitedStates.png\" title=\"United States\"/></td><td>40-49</td><td></td><td>37.1</td><td id=\"5\" style=\"display: none;margin:0;text-align:center;\">86.6</td><td id=\"6\" style=\"display: none;margin:0;text-align:center;\">72.2</td><td id=\"7\" style=\"display: none;margin:0;text-align:center;\">23.4</td><td id=\"8\" style=\"display: none;margin:0;text-align:center;\">0</td></tr>\n",
      "</table>\n",
      "['1', 'Harvard University', '', '1', '294.4', '100.0', '77.7', '55.0', '100.0', '0', '2']\n",
      "<img src=\"../image/flag/UnitedStates.png\" title=\"United States\"/>\n",
      "<img src=\"../image/flag/UnitedStates.png\" title=\"United States\"/>\n",
      "<img src=\"../image/flag/UnitedStates.png\" title=\"United States\"/>\n",
      "<img src=\"../image/flag/China-HongKong.png\" title=\"China-Hong Kong\"/>\n",
      "<img src=\"../image/flag/UnitedStates.png\" title=\"United States\"/>\n",
      "<img src=\"../image/flag/UnitedStates.png\" title=\"United States\"/>\n",
      "<img src=\"../image/flag/UnitedStates.png\" title=\"United States\"/>\n",
      "<img src=\"../image/flag/UnitedStates.png\" title=\"United States\"/>\n",
      "<img src=\"../image/flag/UnitedStates.png\" title=\"United States\"/>\n",
      "<img src=\"../image/flag/UnitedStates.png\" title=\"United States\"/>\n",
      "<img src=\"../image/flag/UnitedStates.png\" title=\"United States\"/>\n",
      "<img src=\"../image/flag/Australia.png\" title=\"Australia\"/>\n",
      "<img src=\"../image/flag/Singapore.png\" title=\"Singapore\"/>\n",
      "<img src=\"../image/flag/UnitedStates.png\" title=\"United States\"/>\n",
      "<img src=\"../image/flag/UnitedStates.png\" title=\"United States\"/>\n",
      "<img src=\"../image/flag/UnitedStates.png\" title=\"United States\"/>\n",
      "<img src=\"../image/flag/UnitedStates.png\" title=\"United States\"/>\n",
      "<img src=\"../image/flag/China.png\" title=\"China\"/>\n",
      "<img src=\"../image/flag/Canada.png\" title=\"Canada\"/>\n",
      "<img src=\"../image/flag/UnitedStates.png\" title=\"United States\"/>\n",
      "<img src=\"../image/flag/UnitedStates.png\" title=\"United States\"/>\n",
      "<img src=\"../image/flag/UnitedStates.png\" title=\"United States\"/>\n",
      "<img src=\"../image/flag/UnitedStates.png\" title=\"United States\"/>\n",
      "<img src=\"../image/flag/Netherlands.png\" title=\"Netherlands\"/>\n",
      "<img src=\"../image/flag/UnitedStates.png\" title=\"United States\"/>\n",
      "<img src=\"../image/flag/UnitedStates.png\" title=\"United States\"/>\n",
      "<img src=\"../image/flag/UnitedKingdom.png\" title=\"United Kingdom\"/>\n",
      "<img src=\"../image/flag/SouthKorea.png\" title=\"South Korea\"/>\n",
      "<img src=\"../image/flag/Belgium.png\" title=\"Belgium\"/>\n",
      "<img src=\"../image/flag/UnitedStates.png\" title=\"United States\"/>\n",
      "<img src=\"../image/flag/China.png\" title=\"China\"/>\n",
      "<img src=\"../image/flag/Spain.png\" title=\"Spain\"/>\n",
      "<img src=\"../image/flag/Netherlands.png\" title=\"Netherlands\"/>\n",
      "<img src=\"../image/flag/UnitedStates.png\" title=\"United States\"/>\n",
      "<img src=\"../image/flag/UnitedStates.png\" title=\"United States\"/>\n",
      "<img src=\"../image/flag/UnitedStates.png\" title=\"United States\"/>\n",
      "<img src=\"../image/flag/UnitedStates.png\" title=\"United States\"/>\n",
      "<img src=\"../image/flag/UnitedStates.png\" title=\"United States\"/>\n",
      "<img src=\"../image/flag/Canada.png\" title=\"Canada\"/>\n",
      "<img src=\"../image/flag/UnitedStates.png\" title=\"United States\"/>\n",
      "<img src=\"../image/flag/Denmark.png\" title=\"Denmark\"/>\n",
      "<img src=\"../image/flag/Singapore.png\" title=\"Singapore\"/>\n",
      "<img src=\"../image/flag/UnitedStates.png\" title=\"United States\"/>\n",
      "<img src=\"../image/flag/UnitedStates.png\" title=\"United States\"/>\n",
      "<img src=\"../image/flag/UnitedStates.png\" title=\"United States\"/>\n",
      "<img src=\"../image/flag/Belgium.png\" title=\"Belgium\"/>\n",
      "<img src=\"../image/flag/China.png\" title=\"China\"/>\n",
      "<img src=\"../image/flag/China.png\" title=\"China\"/>\n",
      "<img src=\"../image/flag/Australia.png\" title=\"Australia\"/>\n",
      "<img src=\"../image/flag/UnitedStates.png\" title=\"United States\"/>\n",
      "<img src=\"../image/flag/Finland.png\" title=\"Finland\"/>\n",
      "<img src=\"../image/flag/Netherlands.png\" title=\"Netherlands\"/>\n",
      "<img src=\"../image/flag/Netherlands.png\" title=\"Netherlands\"/>\n",
      "<img src=\"../image/flag/China.png\" title=\"China\"/>\n",
      "<img src=\"../image/flag/SouthKorea.png\" title=\"South Korea\"/>\n",
      "<img src=\"../image/flag/UnitedStates.png\" title=\"United States\"/>\n",
      "<img src=\"../image/flag/China.png\" title=\"China\"/>\n",
      "<img src=\"../image/flag/UnitedStates.png\" title=\"United States\"/>\n",
      "<img src=\"../image/flag/China.png\" title=\"China\"/>\n",
      "<img src=\"../image/flag/UnitedStates.png\" title=\"United States\"/>\n",
      "<img src=\"../image/flag/China-HongKong.png\" title=\"China-Hong Kong\"/>\n",
      "<img src=\"../image/flag/UnitedKingdom.png\" title=\"United Kingdom\"/>\n",
      "<img src=\"../image/flag/Australia.png\" title=\"Australia\"/>\n",
      "<img src=\"../image/flag/UnitedKingdom.png\" title=\"United Kingdom\"/>\n",
      "<img src=\"../image/flag/UnitedStates.png\" title=\"United States\"/>\n",
      "<img src=\"../image/flag/UnitedStates.png\" title=\"United States\"/>\n",
      "<img src=\"../image/flag/Canada.png\" title=\"Canada\"/>\n",
      "<img src=\"../image/flag/UnitedStates.png\" title=\"United States\"/>\n",
      "<img src=\"../image/flag/UnitedStates.png\" title=\"United States\"/>\n",
      "<img src=\"../image/flag/Denmark.png\" title=\"Denmark\"/>\n",
      "<img src=\"../image/flag/UnitedStates.png\" title=\"United States\"/>\n",
      "<img src=\"../image/flag/UnitedKingdom.png\" title=\"United Kingdom\"/>\n",
      "<img src=\"../image/flag/Netherlands.png\" title=\"Netherlands\"/>\n",
      "<img src=\"../image/flag/Netherlands.png\" title=\"Netherlands\"/>\n",
      "<img src=\"../image/flag/China.png\" title=\"China\"/>\n",
      "<img src=\"../image/flag/UnitedStates.png\" title=\"United States\"/>\n",
      "<img src=\"../image/flag/China.png\" title=\"China\"/>\n",
      "<img src=\"../image/flag/China.png\" title=\"China\"/>\n",
      "<img src=\"../image/flag/SouthKorea.png\" title=\"South Korea\"/>\n",
      "<img src=\"../image/flag/SouthKorea.png\" title=\"South Korea\"/>\n",
      "<img src=\"../image/flag/UnitedKingdom.png\" title=\"United Kingdom\"/>\n",
      "<img src=\"../image/flag/China-Taiwan.png\" title=\"China-Taiwan\"/>\n",
      "<img src=\"../image/flag/China.png\" title=\"China\"/>\n",
      "<img src=\"../image/flag/UnitedStates.png\" title=\"United States\"/>\n",
      "<img src=\"../image/flag/Spain.png\" title=\"Spain\"/>\n",
      "<img src=\"../image/flag/SouthKorea.png\" title=\"South Korea\"/>\n",
      "<img src=\"../image/flag/UnitedStates.png\" title=\"United States\"/>\n",
      "<img src=\"../image/flag/China-HongKong.png\" title=\"China-Hong Kong\"/>\n",
      "<img src=\"../image/flag/UnitedStates.png\" title=\"United States\"/>\n",
      "<img src=\"../image/flag/UnitedKingdom.png\" title=\"United Kingdom\"/>\n",
      "<img src=\"../image/flag/UnitedStates.png\" title=\"United States\"/>\n",
      "<img src=\"../image/flag/UnitedStates.png\" title=\"United States\"/>\n",
      "<img src=\"../image/flag/Malaysia.png\" title=\"Malaysia\"/>\n",
      "<img src=\"../image/flag/UnitedStates.png\" title=\"United States\"/>\n",
      "<img src=\"../image/flag/UnitedKingdom.png\" title=\"United Kingdom\"/>\n",
      "<img src=\"../image/flag/Canada.png\" title=\"Canada\"/>\n",
      "<img src=\"../image/flag/UnitedStates.png\" title=\"United States\"/>\n",
      "<img src=\"../image/flag/Canada.png\" title=\"Canada\"/>\n",
      "<img src=\"../image/flag/UnitedStates.png\" title=\"United States\"/>\n",
      "<img src=\"../image/flag/UnitedStates.png\" title=\"United States\"/>\n",
      "100\n",
      "100\n",
      "100\n",
      "100\n",
      "100\n",
      "100\n",
      "100\n",
      "100\n",
      "100\n",
      "100\n",
      "Success:library-information-science.html\n"
     ]
    }
   ],
   "source": [
    "for i in range(0, len(subject_list)):\n",
    "    try:\n",
    "        print('******')\n",
    "        print(subject_list[i][0])\n",
    "        print(subject_list[i][1].replace('&amp;','&') )\n",
    "        rank_subject(subject_list[i][0], subject_list[i][1].replace('&amp;','&') )\n",
    "        print (\"Success:\" + subject_list[i][0])\n",
    "    except:\n",
    "        print (\"Error:\" + subject_list[i][0])"
   ]
  },
  {
   "cell_type": "code",
   "execution_count": 21,
   "metadata": {},
   "outputs": [],
   "source": [
    "Uni_rank_subject = pd.concat(rank)\n",
    "Uni_rank_subject.to_csv('ARWU_2020_Subject.csv')"
   ]
  },
  {
   "source": [
    "## Data Clean"
   ],
   "cell_type": "markdown",
   "metadata": {}
  },
  {
   "cell_type": "code",
   "execution_count": null,
   "metadata": {},
   "outputs": [],
   "source": [
    "Uni_rank_subject.read_csv"
   ]
  },
  {
   "cell_type": "code",
   "execution_count": null,
   "metadata": {},
   "outputs": [],
   "source": []
  },
  {
   "cell_type": "code",
   "execution_count": 22,
   "metadata": {},
   "outputs": [],
   "source": [
    "import pandas as pd\n",
    "\n",
    "unirank_clean = pd.read_csv('ARWU_2020_Subject.csv', encoding= 'unicode_escape')"
   ]
  },
  {
   "cell_type": "code",
   "execution_count": null,
   "metadata": {},
   "outputs": [],
   "source": []
  },
  {
   "cell_type": "code",
   "execution_count": 23,
   "metadata": {},
   "outputs": [
    {
     "output_type": "execute_result",
     "data": {
      "text/plain": [
       "   Unnamed: 0 WorldRank              Institution        Country National Rank  \\\n",
       "0           0         1  Paris-Saclay University         France             1   \n",
       "1           1         2     Princeton University   UnitedStates             1   \n",
       "2           2         3      Sorbonne University         France             2   \n",
       "3           3         4      Stanford University   UnitedStates             2   \n",
       "4           4         5  University of Cambridge  UnitedKingdom             1   \n",
       "\n",
       "   Total Score  Score Q1  Score CNCI  Score IC  Score TOP  Score Award  \\\n",
       "0        362.9      87.0        73.6      72.7       87.8        100.0   \n",
       "1        354.3      71.4        88.9      64.4      100.0         81.2   \n",
       "2        308.3     100.0        72.0      72.6       95.6         26.1   \n",
       "3        301.6      66.1        90.8      63.3       89.4         42.6   \n",
       "4        301.4      63.2        88.8      77.1       73.7         60.3   \n",
       "\n",
       "       Subject  \n",
       "0  Mathematics  \n",
       "1  Mathematics  \n",
       "2  Mathematics  \n",
       "3  Mathematics  \n",
       "4  Mathematics  "
      ],
      "text/html": "<div>\n<style scoped>\n    .dataframe tbody tr th:only-of-type {\n        vertical-align: middle;\n    }\n\n    .dataframe tbody tr th {\n        vertical-align: top;\n    }\n\n    .dataframe thead th {\n        text-align: right;\n    }\n</style>\n<table border=\"1\" class=\"dataframe\">\n  <thead>\n    <tr style=\"text-align: right;\">\n      <th></th>\n      <th>Unnamed: 0</th>\n      <th>WorldRank</th>\n      <th>Institution</th>\n      <th>Country</th>\n      <th>National Rank</th>\n      <th>Total Score</th>\n      <th>Score Q1</th>\n      <th>Score CNCI</th>\n      <th>Score IC</th>\n      <th>Score TOP</th>\n      <th>Score Award</th>\n      <th>Subject</th>\n    </tr>\n  </thead>\n  <tbody>\n    <tr>\n      <th>0</th>\n      <td>0</td>\n      <td>1</td>\n      <td>Paris-Saclay University</td>\n      <td>France</td>\n      <td>1</td>\n      <td>362.9</td>\n      <td>87.0</td>\n      <td>73.6</td>\n      <td>72.7</td>\n      <td>87.8</td>\n      <td>100.0</td>\n      <td>Mathematics</td>\n    </tr>\n    <tr>\n      <th>1</th>\n      <td>1</td>\n      <td>2</td>\n      <td>Princeton University</td>\n      <td>UnitedStates</td>\n      <td>1</td>\n      <td>354.3</td>\n      <td>71.4</td>\n      <td>88.9</td>\n      <td>64.4</td>\n      <td>100.0</td>\n      <td>81.2</td>\n      <td>Mathematics</td>\n    </tr>\n    <tr>\n      <th>2</th>\n      <td>2</td>\n      <td>3</td>\n      <td>Sorbonne University</td>\n      <td>France</td>\n      <td>2</td>\n      <td>308.3</td>\n      <td>100.0</td>\n      <td>72.0</td>\n      <td>72.6</td>\n      <td>95.6</td>\n      <td>26.1</td>\n      <td>Mathematics</td>\n    </tr>\n    <tr>\n      <th>3</th>\n      <td>3</td>\n      <td>4</td>\n      <td>Stanford University</td>\n      <td>UnitedStates</td>\n      <td>2</td>\n      <td>301.6</td>\n      <td>66.1</td>\n      <td>90.8</td>\n      <td>63.3</td>\n      <td>89.4</td>\n      <td>42.6</td>\n      <td>Mathematics</td>\n    </tr>\n    <tr>\n      <th>4</th>\n      <td>4</td>\n      <td>5</td>\n      <td>University of Cambridge</td>\n      <td>UnitedKingdom</td>\n      <td>1</td>\n      <td>301.4</td>\n      <td>63.2</td>\n      <td>88.8</td>\n      <td>77.1</td>\n      <td>73.7</td>\n      <td>60.3</td>\n      <td>Mathematics</td>\n    </tr>\n  </tbody>\n</table>\n</div>"
     },
     "metadata": {},
     "execution_count": 23
    }
   ],
   "source": [
    "unirank_clean.head()"
   ]
  },
  {
   "cell_type": "code",
   "execution_count": 24,
   "metadata": {},
   "outputs": [
    {
     "output_type": "execute_result",
     "data": {
      "text/plain": [
       "               Institution      Subject WorldRank\n",
       "0  Paris-Saclay University  Mathematics         1\n",
       "1     Princeton University  Mathematics         2\n",
       "2      Sorbonne University  Mathematics         3\n",
       "3      Stanford University  Mathematics         4\n",
       "4  University of Cambridge  Mathematics         5"
      ],
      "text/html": "<div>\n<style scoped>\n    .dataframe tbody tr th:only-of-type {\n        vertical-align: middle;\n    }\n\n    .dataframe tbody tr th {\n        vertical-align: top;\n    }\n\n    .dataframe thead th {\n        text-align: right;\n    }\n</style>\n<table border=\"1\" class=\"dataframe\">\n  <thead>\n    <tr style=\"text-align: right;\">\n      <th></th>\n      <th>Institution</th>\n      <th>Subject</th>\n      <th>WorldRank</th>\n    </tr>\n  </thead>\n  <tbody>\n    <tr>\n      <th>0</th>\n      <td>Paris-Saclay University</td>\n      <td>Mathematics</td>\n      <td>1</td>\n    </tr>\n    <tr>\n      <th>1</th>\n      <td>Princeton University</td>\n      <td>Mathematics</td>\n      <td>2</td>\n    </tr>\n    <tr>\n      <th>2</th>\n      <td>Sorbonne University</td>\n      <td>Mathematics</td>\n      <td>3</td>\n    </tr>\n    <tr>\n      <th>3</th>\n      <td>Stanford University</td>\n      <td>Mathematics</td>\n      <td>4</td>\n    </tr>\n    <tr>\n      <th>4</th>\n      <td>University of Cambridge</td>\n      <td>Mathematics</td>\n      <td>5</td>\n    </tr>\n  </tbody>\n</table>\n</div>"
     },
     "metadata": {},
     "execution_count": 24
    }
   ],
   "source": [
    "unirank = pd.DataFrame(unirank_clean, columns = ['Institution', 'Subject', 'WorldRank'])\n",
    "unirank.head()"
   ]
  },
  {
   "cell_type": "code",
   "execution_count": 25,
   "metadata": {},
   "outputs": [],
   "source": [
    "unirank['Ranking Institution'] = 'ShanghaiRanking'"
   ]
  },
  {
   "cell_type": "code",
   "execution_count": 26,
   "metadata": {},
   "outputs": [
    {
     "output_type": "execute_result",
     "data": {
      "text/plain": [
       "               Institution      Subject WorldRank Ranking Institution\n",
       "0  Paris-Saclay University  Mathematics         1     ShanghaiRanking\n",
       "1     Princeton University  Mathematics         2     ShanghaiRanking\n",
       "2      Sorbonne University  Mathematics         3     ShanghaiRanking\n",
       "3      Stanford University  Mathematics         4     ShanghaiRanking\n",
       "4  University of Cambridge  Mathematics         5     ShanghaiRanking"
      ],
      "text/html": "<div>\n<style scoped>\n    .dataframe tbody tr th:only-of-type {\n        vertical-align: middle;\n    }\n\n    .dataframe tbody tr th {\n        vertical-align: top;\n    }\n\n    .dataframe thead th {\n        text-align: right;\n    }\n</style>\n<table border=\"1\" class=\"dataframe\">\n  <thead>\n    <tr style=\"text-align: right;\">\n      <th></th>\n      <th>Institution</th>\n      <th>Subject</th>\n      <th>WorldRank</th>\n      <th>Ranking Institution</th>\n    </tr>\n  </thead>\n  <tbody>\n    <tr>\n      <th>0</th>\n      <td>Paris-Saclay University</td>\n      <td>Mathematics</td>\n      <td>1</td>\n      <td>ShanghaiRanking</td>\n    </tr>\n    <tr>\n      <th>1</th>\n      <td>Princeton University</td>\n      <td>Mathematics</td>\n      <td>2</td>\n      <td>ShanghaiRanking</td>\n    </tr>\n    <tr>\n      <th>2</th>\n      <td>Sorbonne University</td>\n      <td>Mathematics</td>\n      <td>3</td>\n      <td>ShanghaiRanking</td>\n    </tr>\n    <tr>\n      <th>3</th>\n      <td>Stanford University</td>\n      <td>Mathematics</td>\n      <td>4</td>\n      <td>ShanghaiRanking</td>\n    </tr>\n    <tr>\n      <th>4</th>\n      <td>University of Cambridge</td>\n      <td>Mathematics</td>\n      <td>5</td>\n      <td>ShanghaiRanking</td>\n    </tr>\n  </tbody>\n</table>\n</div>"
     },
     "metadata": {},
     "execution_count": 26
    }
   ],
   "source": [
    "unirank.head()"
   ]
  },
  {
   "cell_type": "code",
   "execution_count": 20,
   "metadata": {},
   "outputs": [],
   "source": []
  },
  {
   "cell_type": "code",
   "execution_count": 27,
   "metadata": {},
   "outputs": [
    {
     "output_type": "error",
     "ename": "NameError",
     "evalue": "name 'subject' is not defined",
     "traceback": [
      "\u001b[1;31m---------------------------------------------------------------------------\u001b[0m",
      "\u001b[1;31mNameError\u001b[0m                                 Traceback (most recent call last)",
      "\u001b[1;32m<ipython-input-27-f01dc04ee58f>\u001b[0m in \u001b[0;36m<module>\u001b[1;34m\u001b[0m\n\u001b[1;32m----> 1\u001b[1;33m \u001b[0msubject\u001b[0m\u001b[1;33m[\u001b[0m\u001b[1;36m0\u001b[0m\u001b[1;33m]\u001b[0m\u001b[1;33m[\u001b[0m\u001b[1;36m0\u001b[0m\u001b[1;33m]\u001b[0m\u001b[1;33m\u001b[0m\u001b[1;33m\u001b[0m\u001b[0m\n\u001b[0m",
      "\u001b[1;31mNameError\u001b[0m: name 'subject' is not defined"
     ]
    }
   ],
   "source": []
  },
  {
   "cell_type": "code",
   "execution_count": null,
   "metadata": {},
   "outputs": [],
   "source": []
  }
 ],
 "metadata": {
  "kernelspec": {
   "name": "python385jvsc74a57bd00f7990d9cf0283fe9414651a2f8f06da206d083741699d07eb06ce863cfe48f5",
   "display_name": "Python 3.8.5 64-bit ('A511': conda)"
  }
 },
 "nbformat": 4,
 "nbformat_minor": 4
}